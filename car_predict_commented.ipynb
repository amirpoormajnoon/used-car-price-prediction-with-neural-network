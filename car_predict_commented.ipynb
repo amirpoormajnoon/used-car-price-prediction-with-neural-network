{
 "cells": [
  {
   "cell_type": "code",
   "execution_count": 142,
   "id": "86cb5cf2-c19d-406e-89b6-7e36f57d9013",
   "metadata": {},
   "outputs": [],
   "source": [
    "# Importing required libraries for data handling, preprocessing, and modelingimport kagglehub\n",
    "import pandas as pd\n",
    "from sklearn.preprocessing import OrdinalEncoder , OneHotEncoder , StandardScaler\n",
    "from sklearn.decomposition import PCA\n",
    "from sklearn.model_selection import train_test_split\n",
    "from sklearn.model_selection import cross_val_score\n",
    "from sklearn.neural_network import MLPRegressor\n",
    "from sklearn.metrics import mean_absolute_error\n",
    "from sklearn.impute import SimpleImputer\n",
    "from sklearn.metrics import r2_score\n",
    "from sklearn.metrics import mean_squared_error\n",
    "import numpy as np"
   ]
  },
  {
   "cell_type": "code",
   "execution_count": 118,
   "id": "eeede94e-240f-47fa-a749-202ddce21ad2",
   "metadata": {},
   "outputs": [],
   "source": [
    "# Uncomment these lines to download the dataset from Kaggle.\n",
    "# path = kagglehub.dataset_download(\"milanvaddoriya/old-car-price-prediction\")\n",
    "# print(f\"path to file is : \"+path)"
   ]
  },
  {
   "cell_type": "code",
   "execution_count": 120,
   "id": "80aa1351-456e-4a2d-a28b-1b6fcd791d0a",
   "metadata": {},
   "outputs": [],
   "source": [
    "# Load the CSV file into a pandas DataFrame\n",
    "df = pd.read_csv(\"car_price.csv\")"
   ]
  },
  {
   "cell_type": "code",
   "execution_count": 122,
   "id": "95196c30-16ea-4248-988c-ba8d81c660ca",
   "metadata": {},
   "outputs": [],
   "source": [
    "# Function to convert price from 'Lakh' or 'Crore' format to numerical rupees\n",
    "def convert_price_to_rupiah(price_str):\n",
    "    price_str = price_str.strip()\n",
    "    if 'Lakh' in price_str:\n",
    "        return float(price_str.replace(' Lakh', '')) * 1e5\n",
    "    elif 'Crore' in price_str:\n",
    "        return float(price_str.replace(' Crore', '')) * 1e7\n",
    "    else:\n",
    "        return None  # یا 0 یا np.nan، بسته به انتخابت\n",
    "\n",
    "# Function to convert kilometers string to integer\n",
    "def convert_kms(kms_str):\n",
    "    return int(kms_str.replace(',', '').replace(' kms', '').strip())\n",
    "    \n",
    "# Function to convert engine size string to integer (cc)\n",
    "def convert_engine(engine_str):\n",
    "    return int(engine_str.replace(' cc', '').strip())"
   ]
  },
  {
   "cell_type": "code",
   "execution_count": 124,
   "id": "68ac9bd5-161f-4ec3-8d9f-91e30893e831",
   "metadata": {},
   "outputs": [],
   "source": [
    "# Apply data cleaning and extract useful features from raw columns\n",
    "df['car_prices_in_rupee'] = df['car_prices_in_rupee'].apply(convert_price_to_rupiah)\n",
    "df['kms_driven'] = df['kms_driven'].apply(convert_kms)\n",
    "df['engine'] = df['engine'].apply(convert_engine)\n",
    "\n",
    "# Extract brand, model, and variant information from car name\n",
    "df['brand'] = df['car_name'].apply(lambda x : x.split()[0])\n",
    "df['model'] = df['car_name'].apply(lambda x : x.split()[1])\n",
    "df['Variant'] = df['car_name'].apply(lambda x : x.split()[2] if  x.split()[2] else  None)\n",
    "\n",
    "# Convert seat column to integer (extract first word)\n",
    "df['Seats'] = df['Seats'].apply(lambda x: int(x.split()[0]) if x.split() else None)\n"
   ]
  },
  {
   "cell_type": "code",
   "execution_count": 126,
   "id": "6a7608c7-6b83-453b-aa2a-6e531096dfe7",
   "metadata": {},
   "outputs": [],
   "source": [
    "# Encode the 'ownership' categorical column into numeric format using OrdinalEncoder\n",
    "ordinal_encoder = OrdinalEncoder()\n",
    "df['ownership_encoded'] = ordinal_encoder.fit_transform(df[['ownership']])"
   ]
  },
  {
   "cell_type": "code",
   "execution_count": 128,
   "id": "9dd0773c-490f-4216-827e-e2ab9f102ad7",
   "metadata": {},
   "outputs": [],
   "source": [
    "# One-hot encode selected categorical features and add the encoded columns to the main DataFrame\n",
    "hot_encoder = OneHotEncoder(drop='first', sparse_output=False)\n",
    "hot_encoded = hot_encoder.fit_transform(df[['fuel_type', 'transmission' , 'brand', 'model', 'Variant']])\n",
    "hot_encoded_df = pd.DataFrame(hot_encoded, columns=hot_encoder.get_feature_names_out(['fuel_type', 'transmission' , 'brand', 'model', 'Variant']))\n",
    "df = pd.concat([df, hot_encoded_df], axis=1)"
   ]
  },
  {
   "cell_type": "code",
   "execution_count": 130,
   "id": "a2e6508e-ded7-476f-a444-e8353f61702d",
   "metadata": {},
   "outputs": [],
   "source": [
    "# Normalize numerical features using StandardScaler for better model performance\n",
    "scaler = StandardScaler()\n",
    "df[['car_prices_in_rupee', 'kms_driven', 'engine','manufacture','Seats']] = scaler.fit_transform(df[['car_prices_in_rupee', 'kms_driven', 'engine','manufacture','Seats']])"
   ]
  },
  {
   "cell_type": "code",
   "execution_count": 132,
   "id": "6453b4e2-8d38-4926-a7c8-f3fcb123cdcf",
   "metadata": {},
   "outputs": [],
   "source": [
    "# Handle missing values by imputing the most frequent value in each column\n",
    "column_names = df.columns\n",
    "imputer = SimpleImputer(strategy='most_frequent')\n",
    "df = imputer.fit_transform(df)\n",
    "df = pd.DataFrame(df,columns=column_names)"
   ]
  },
  {
   "cell_type": "code",
   "execution_count": 134,
   "id": "a8869c54-c05f-4efc-b751-af48c2c0b452",
   "metadata": {},
   "outputs": [],
   "source": [
    "# Drop unnecessary or already encoded categorical columns from the DataFrame\n",
    "df = df.drop(columns=['fuel_type', 'transmission','ownership','Unnamed: 0' , 'brand','model','Variant' ,'car_name'])"
   ]
  },
  {
   "cell_type": "code",
   "execution_count": 136,
   "id": "11c70938-5c0e-4e35-9e29-442d134ddb36",
   "metadata": {},
   "outputs": [],
   "source": [
    "# Splitting the dataset into features (X) and target variable (y) for machine learning.\n",
    "X = df.drop(columns=['car_prices_in_rupee'])\n",
    "y = df['car_prices_in_rupee']"
   ]
  },
  {
   "cell_type": "code",
   "execution_count": 138,
   "id": "6b5dd18a-3bdc-4868-8d04-46d380c59cab",
   "metadata": {},
   "outputs": [],
   "source": [
    "# Reducing the feature set with PCA to retain 95% variance and adding the target variable back to the transformed data.\n",
    "pca = PCA(n_components=0.95)\n",
    "X_pca = pca.fit_transform(X)\n",
    "columns = [f'PC{i+1}' for i in range(X_pca.shape[1])]\n",
    "X_pca_df = pd.DataFrame(X_pca, columns=columns)\n",
    "X_pca_df['car_prices_in_rupee'] = y.reset_index(drop=True)"
   ]
  },
  {
   "cell_type": "code",
   "execution_count": 83,
   "id": "bc828937-caf4-47c6-b3cf-ef46d72e9c37",
   "metadata": {},
   "outputs": [],
   "source": [
    "# Splitting the reduced dataset (X_pca_df) and target variable (y) into training and testing sets with 80-20 split.\n",
    "X = X_pca_df\n",
    "X_train, X_test, y_train, y_test = train_test_split(X_pca_df,y, test_size=0.2, random_state=42)"
   ]
  },
  {
   "cell_type": "code",
   "execution_count": 146,
   "id": "6b9206b9-9780-491c-bebc-0a55da4bc9e8",
   "metadata": {},
   "outputs": [
    {
     "name": "stdout",
     "output_type": "stream",
     "text": [
      "MAE in fold:  [0.03793883 0.03871534 0.03535333 0.03635826 0.03495839]\n",
      "Ave MAE:  0.036664829824405235\n",
      "std MAE:  0.0014528336353137848\n"
     ]
    }
   ],
   "source": [
    "# Training an MLP regressor and evaluating it on the test set.\n",
    "model = MLPRegressor(hidden_layer_sizes=(32, 16), activation='relu', max_iter=500, random_state=42)\n",
    "# model.fit(X_train, y_train)\n",
    "# y_pred = model.predict(X_test)\n",
    "# mae = mean_absolute_error(y_test, y_pred)\n",
    "model = MLPRegressor(hidden_layer_sizes=(32, 16), activation='relu', max_iter=500, random_state=42)\n",
    "cv_scores = cross_val_score(model, X_pca_df, y, cv=5, scoring='neg_mean_absolute_error')\n",
    "print(\"MAE in fold: \", -cv_scores)  \n",
    "print(\"Ave MAE: \", -np.mean(cv_scores))\n",
    "print(\"std MAE: \", np.std(cv_scores))\n"
   ]
  },
  {
   "cell_type": "code",
   "execution_count": 148,
   "id": "08877ed6-a123-40be-9977-eb56f826d79d",
   "metadata": {},
   "outputs": [
    {
     "name": "stdout",
     "output_type": "stream",
     "text": [
      "R² for each fold:  [0.99671498 0.99679764 0.99784996 0.99751809 0.99715159]\n",
      "Mean R²:  0.9972064514364959\n",
      "Standard deviation of R²:  0.00042962893152326704\n"
     ]
    }
   ],
   "source": [
    "# Cross-validation with 5 folds, using R² for evaluation\n",
    "cv_scores_r2 = cross_val_score(model, X_pca_df, y, cv=5, scoring='r2')\n",
    "print(\"R² for each fold: \", cv_scores_r2)\n",
    "print(\"Mean R²: \", np.mean(cv_scores_r2))\n",
    "print(\"Standard deviation of R²: \", np.std(cv_scores_r2))\n"
   ]
  },
  {
   "cell_type": "code",
   "execution_count": 152,
   "id": "7f404dd4-746b-40fa-abf3-5820068f90ac",
   "metadata": {
    "scrolled": true
   },
   "outputs": [
    {
     "name": "stdout",
     "output_type": "stream",
     "text": [
      "MSE for each fold:  [0.00300864 0.00310794 0.00224548 0.00252532 0.00261763]\n",
      "Mean MSE:  0.0027009996262474306\n",
      "Standard deviation of MSE:  0.00031797930802489007\n"
     ]
    }
   ],
   "source": [
    "# Cross-validation with 5 folds, using MSE for evaluation\n",
    "cv_scores_mse = cross_val_score(model, X_pca_df, y, cv=5, scoring='neg_mean_squared_error')\n",
    "print(\"MSE for each fold: \", -cv_scores_mse)  # Negate the negative values\n",
    "print(\"Mean MSE: \", -np.mean(cv_scores_mse))  # Mean of MSE values\n",
    "print(\"Standard deviation of MSE: \", np.std(-cv_scores_mse))  # Standard deviation of MSE"
   ]
  },
  {
   "cell_type": "code",
   "execution_count": null,
   "id": "a04fab82-acfb-4f4e-ade0-7a5b72bda16e",
   "metadata": {},
   "outputs": [],
   "source": []
  }
 ],
 "metadata": {
  "kernelspec": {
   "display_name": "Python 3 (ipykernel)",
   "language": "python",
   "name": "python3"
  },
  "language_info": {
   "codemirror_mode": {
    "name": "ipython",
    "version": 3
   },
   "file_extension": ".py",
   "mimetype": "text/x-python",
   "name": "python",
   "nbconvert_exporter": "python",
   "pygments_lexer": "ipython3",
   "version": "3.12.3"
  }
 },
 "nbformat": 4,
 "nbformat_minor": 5
}
